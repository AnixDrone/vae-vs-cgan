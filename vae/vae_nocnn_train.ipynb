{
 "cells": [
  {
   "cell_type": "code",
   "execution_count": 1,
   "metadata": {},
   "outputs": [
    {
     "name": "stderr",
     "output_type": "stream",
     "text": [
      "/home/tignjatov/anaconda3/envs/ml/lib/python3.6/site-packages/tqdm/auto.py:22: TqdmWarning: IProgress not found. Please update jupyter and ipywidgets. See https://ipywidgets.readthedocs.io/en/stable/user_install.html\n",
      "  from .autonotebook import tqdm as notebook_tqdm\n"
     ]
    }
   ],
   "source": [
    "from vae_nocnn_model import VAE,CVAE\n",
    "import torch\n",
    "from torch import nn\n",
    "import torchvision\n",
    "from torchvision import transforms\n",
    "from torch.utils.data import DataLoader\n",
    "import tqdm\n",
    "from torch import nn\n",
    "import torch.nn.functional as F\n",
    "import matplotlib.pyplot as plt\n",
    "from sklearn.metrics import confusion_matrix, classification_report\n",
    "import seaborn as sns\n",
    "from torch.utils.tensorboard import SummaryWriter"
   ]
  },
  {
   "cell_type": "code",
   "execution_count": 2,
   "metadata": {},
   "outputs": [],
   "source": [
    "device = torch.device('cuda' if torch.cuda.is_available() else 'cpu')  "
   ]
  },
  {
   "cell_type": "code",
   "execution_count": 3,
   "metadata": {},
   "outputs": [],
   "source": [
    "CHANNELS_IMG = 1\n",
    "IMG_SIZE = 64\n",
    "BATCH_SIZE = 64\n",
    "EPOCHS = 5"
   ]
  },
  {
   "cell_type": "code",
   "execution_count": 4,
   "metadata": {},
   "outputs": [],
   "source": [
    "transform = transforms.Compose(\n",
    "    [\n",
    "        transforms.Resize(IMG_SIZE),\n",
    "        transforms.ToTensor(),\n",
    "        transforms.Normalize(\n",
    "            [0.5 for _ in range(CHANNELS_IMG)], [0.5 for _ in range(CHANNELS_IMG)]),\n",
    "    ]\n",
    ")"
   ]
  },
  {
   "cell_type": "code",
   "execution_count": 5,
   "metadata": {},
   "outputs": [],
   "source": [
    "trainset = torchvision.datasets.MNIST(root='../data', \n",
    "                                      train=True,\n",
    "                                      transform=transform,\n",
    "                                      download= True)\n",
    "testset = torchvision.datasets.MNIST(root='../data', \n",
    "                                      train=False,\n",
    "                                      transform=transform,\n",
    "                                      download= True)"
   ]
  },
  {
   "cell_type": "code",
   "execution_count": 6,
   "metadata": {},
   "outputs": [],
   "source": [
    "train_dataloarder = DataLoader(trainset, batch_size=BATCH_SIZE, shuffle=True)\n",
    "test_loader = DataLoader(testset, batch_size=BATCH_SIZE, shuffle=True)"
   ]
  },
  {
   "cell_type": "code",
   "execution_count": 7,
   "metadata": {},
   "outputs": [],
   "source": [
    "model = CVAE(x_dim=IMG_SIZE*IMG_SIZE, h_dim1= 512, h_dim2=256, z_dim=20,device = device)"
   ]
  },
  {
   "cell_type": "code",
   "execution_count": 8,
   "metadata": {},
   "outputs": [
    {
     "data": {
      "text/plain": [
       "CVAE(\n",
       "  (fc1): Linear(in_features=4097, out_features=512, bias=True)\n",
       "  (fc2): Linear(in_features=512, out_features=256, bias=True)\n",
       "  (fc31): Linear(in_features=256, out_features=20, bias=True)\n",
       "  (fc32): Linear(in_features=256, out_features=20, bias=True)\n",
       "  (fc4): Linear(in_features=21, out_features=256, bias=True)\n",
       "  (fc5): Linear(in_features=256, out_features=512, bias=True)\n",
       "  (fc6): Linear(in_features=512, out_features=4096, bias=True)\n",
       ")"
      ]
     },
     "execution_count": 8,
     "metadata": {},
     "output_type": "execute_result"
    }
   ],
   "source": [
    "model.to(device)"
   ]
  },
  {
   "cell_type": "code",
   "execution_count": 9,
   "metadata": {},
   "outputs": [],
   "source": [
    "import torch.optim as optim\n",
    "\n",
    "criterion = nn.CrossEntropyLoss()\n",
    "optimizer = optim.Adam(model.parameters())"
   ]
  },
  {
   "cell_type": "code",
   "execution_count": 10,
   "metadata": {},
   "outputs": [],
   "source": [
    "# def loss_function(recon_x, x, mu, log_var):\n",
    "#     bce = nn.CrossEntropyLoss(reduction='sum')\n",
    "#     BCE = bce(recon_x.flatten(1), x.flatten(1))\n",
    "#     KLD = -0.5 * torch.sum(1 + log_var - mu.pow(2) - log_var.exp())\n",
    "#     return BCE + KLD\n",
    "def loss_function(recon_x, x, mu, log_var):\n",
    "    BCE = F.binary_cross_entropy(recon_x, x.flatten(1), reduction='sum')\n",
    "    KLD = -0.5 * torch.sum(1 + log_var - mu.pow(2) - log_var.exp())\n",
    "    return BCE + KLD"
   ]
  },
  {
   "cell_type": "code",
   "execution_count": 11,
   "metadata": {},
   "outputs": [
    {
     "name": "stderr",
     "output_type": "stream",
     "text": [
      "/home/tignjatov/anaconda3/envs/ml/lib/python3.6/site-packages/torch/nn/functional.py:1806: UserWarning: nn.functional.sigmoid is deprecated. Use torch.sigmoid instead.\n",
      "  warnings.warn(\"nn.functional.sigmoid is deprecated. Use torch.sigmoid instead.\")\n"
     ]
    },
    {
     "name": "stdout",
     "output_type": "stream",
     "text": [
      "Epoch [0/5] Batch 100/938                       Loss : -1154819972.2148\n",
      "Epoch [0/5] Batch 200/938                       Loss : -2508673057.2148\n",
      "Epoch [0/5] Batch 300/938                       Loss : -3958333993.2148\n",
      "Epoch [0/5] Batch 400/938                       Loss : -5339945587.2148\n",
      "Epoch [0/5] Batch 500/938                       Loss : -6822095705.2148\n",
      "Epoch [0/5] Batch 600/938                       Loss : -8461445927.2148\n",
      "Epoch [0/5] Batch 700/938                       Loss : -10139487435.2148\n",
      "Epoch [0/5] Batch 800/938                       Loss : -11913488538.2148\n",
      "Epoch [0/5] Batch 900/938                       Loss : -13697101616.2148\n",
      "Epoch [1/5] Batch 100/938                       Loss : -1829363810.0000\n",
      "Epoch [1/5] Batch 200/938                       Loss : -3646422898.0000\n",
      "Epoch [1/5] Batch 300/938                       Loss : -5469303418.0000\n",
      "Epoch [1/5] Batch 400/938                       Loss : -7293582978.0000\n",
      "Epoch [1/5] Batch 500/938                       Loss : -9146524376.0000\n",
      "Epoch [1/5] Batch 600/938                       Loss : -11023557590.0000\n",
      "Epoch [1/5] Batch 700/938                       Loss : -12913378964.0000\n",
      "Epoch [1/5] Batch 800/938                       Loss : -14805561340.0000\n",
      "Epoch [1/5] Batch 900/938                       Loss : -16710705846.0000\n",
      "Epoch [2/5] Batch 100/938                       Loss : -1919379136.0000\n",
      "Epoch [2/5] Batch 200/938                       Loss : -3825227080.0000\n",
      "Epoch [2/5] Batch 300/938                       Loss : -5735948806.0000\n",
      "Epoch [2/5] Batch 400/938                       Loss : -7654517954.0000\n",
      "Epoch [2/5] Batch 500/938                       Loss : -9572404352.0000\n",
      "Epoch [2/5] Batch 600/938                       Loss : -11494461496.0000\n",
      "Epoch [2/5] Batch 700/938                       Loss : -13427144228.0000\n",
      "Epoch [2/5] Batch 800/938                       Loss : -15364346228.0000\n",
      "Epoch [2/5] Batch 900/938                       Loss : -17301923490.0000\n",
      "Epoch [3/5] Batch 100/938                       Loss : -1963427548.0000\n",
      "Epoch [3/5] Batch 200/938                       Loss : -3906931636.0000\n",
      "Epoch [3/5] Batch 300/938                       Loss : -5856619254.0000\n",
      "Epoch [3/5] Batch 400/938                       Loss : -7814819900.0000\n",
      "Epoch [3/5] Batch 500/938                       Loss : -9772522534.0000\n",
      "Epoch [3/5] Batch 600/938                       Loss : -11734588806.0000\n",
      "Epoch [3/5] Batch 700/938                       Loss : -13699527498.0000\n",
      "Epoch [3/5] Batch 800/938                       Loss : -15663657822.0000\n",
      "Epoch [3/5] Batch 900/938                       Loss : -17635404732.0000\n",
      "Epoch [4/5] Batch 100/938                       Loss : -1992814046.0000\n",
      "Epoch [4/5] Batch 200/938                       Loss : -3964372002.0000\n",
      "Epoch [4/5] Batch 300/938                       Loss : -5940347830.0000\n",
      "Epoch [4/5] Batch 400/938                       Loss : -7922404444.0000\n",
      "Epoch [4/5] Batch 500/938                       Loss : -9901258166.0000\n",
      "Epoch [4/5] Batch 600/938                       Loss : -11880073832.0000\n",
      "Epoch [4/5] Batch 700/938                       Loss : -13864836686.0000\n",
      "Epoch [4/5] Batch 800/938                       Loss : -15847237038.0000\n",
      "Epoch [4/5] Batch 900/938                       Loss : -17833779886.0000\n"
     ]
    }
   ],
   "source": [
    "writer_real = SummaryWriter(f\"logs/CVAE_MNIST/real\")\n",
    "writer_fake = SummaryWriter(f\"logs/CVAE_MNIST/fake\")\n",
    "step = 0\n",
    "train_losses = []\n",
    "test_losses = []\n",
    "for epoch in range(EPOCHS):\n",
    "    train_epoch_loss = 0\n",
    "    test_epoch_loss = 0\n",
    "    for batch_idx,(img,lab) in enumerate(train_dataloarder):\n",
    "        model.train()\n",
    "        img = img.to(device)\n",
    "        lab = lab.to(device)\n",
    "        optimizer.zero_grad()\n",
    "        recon_img, mu, log_var = model(img,lab)\n",
    "        #print(mu)\n",
    "        #print(log_var)\n",
    "        \n",
    "        loss = loss_function(recon_img, img, mu, log_var)\n",
    "        #print(loss)\n",
    "        #print(recon_img.shape)\n",
    "        #print(loss.item())\n",
    "        train_epoch_loss += loss.item() \n",
    "        loss.backward()\n",
    "        optimizer.step()\n",
    "    \n",
    "        model.eval()\n",
    "        if batch_idx % 100 == 0 and batch_idx > 0:\n",
    "                print(\n",
    "                    f\"Epoch [{epoch}/{EPOCHS}] Batch {batch_idx}/{len(train_dataloarder)} \\\n",
    "                      Loss : {train_epoch_loss:.4f}\"\n",
    "                )\n",
    "\n",
    "                with torch.no_grad():\n",
    "                    gen_img = model.sample(BATCH_SIZE,lab)\n",
    "                    gen_img = gen_img.view(BATCH_SIZE,1,IMG_SIZE,IMG_SIZE)\n",
    "                    # take out (up to) 32 examples\n",
    "                    img_grid_real = torchvision.utils.make_grid(img[:32], normalize=True)\n",
    "                    img_grid_fake = torchvision.utils.make_grid(gen_img[:32], normalize=True)\n",
    "\n",
    "                    writer_real.add_image(\"Real\", img_grid_real, global_step=step)\n",
    "                    writer_fake.add_image(\"Fake\", img_grid_fake, global_step=step)\n",
    "\n",
    "                step += 1\n",
    "    train_losses.append(train_epoch_loss)\n",
    "    with torch.no_grad():\n",
    "        for img,lab in test_loader:\n",
    "            img = img.to(device)\n",
    "            lab = lab.to(device)\n",
    "            recon_img, mu, log_var = model(img,lab)\n",
    "            loss = loss_function(recon_img, img, mu, log_var)\n",
    "            test_epoch_loss += loss.item()\n",
    "    test_losses.append(test_epoch_loss)"
   ]
  },
  {
   "cell_type": "code",
   "execution_count": 14,
   "metadata": {},
   "outputs": [
    {
     "data": {
      "image/png": "[encoded data removed]",
      "text/plain": [
       "<Figure size 432x288 with 1 Axes>"
      ]
     },
     "metadata": {
      "needs_background": "light"
     },
     "output_type": "display_data"
    }
   ],
   "source": [
    "plt.plot(train_losses, label=\"train\")\n",
    "plt.plot(test_losses, label=\"test\")\n",
    "plt.show()"
   ]
  },
  {
   "cell_type": "code",
   "execution_count": null,
   "metadata": {},
   "outputs": [],
   "source": []
  }
 ],
 "metadata": {
  "kernelspec": {
   "display_name": "Python 3.6.13 ('ml')",
   "language": "python",
   "name": "python3"
  },
  "language_info": {
   "codemirror_mode": {
    "name": "ipython",
    "version": 3
   },
   "file_extension": ".py",
   "mimetype": "text/x-python",
   "name": "python",
   "nbconvert_exporter": "python",
   "pygments_lexer": "ipython3",
   "version": "3.6.13"
  },
  "orig_nbformat": 4,
  "vscode": {
   "interpreter": {
    "hash": "e52387336156db6d881f08b29d2996eae333b560bff7fc97cb6248ede68f9d47"
   }
  }
 },
 "nbformat": 4,
 "nbformat_minor": 2
}
