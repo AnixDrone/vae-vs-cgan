{
 "cells": [
  {
   "cell_type": "code",
   "execution_count": 1,
   "metadata": {},
   "outputs": [
    {
     "name": "stderr",
     "output_type": "stream",
     "text": [
      "/home/tignjatov/anaconda3/envs/ml/lib/python3.6/site-packages/tqdm/auto.py:22: TqdmWarning: IProgress not found. Please update jupyter and ipywidgets. See https://ipywidgets.readthedocs.io/en/stable/user_install.html\n",
      "  from .autonotebook import tqdm as notebook_tqdm\n"
     ]
    }
   ],
   "source": [
    "import torch\n",
    "from torch import nn\n",
    "import torchvision\n",
    "from torchvision import transforms\n",
    "from torch.utils.data import DataLoader\n",
    "import tqdm\n",
    "from torch import nn\n",
    "import torch.nn.functional as F\n",
    "import matplotlib.pyplot as plt\n",
    "from sklearn.metrics import confusion_matrix, classification_report\n",
    "import seaborn as sns\n",
    "from torch.utils.tensorboard import SummaryWriter\n",
    "from cvae_model import ConditionalVAE"
   ]
  },
  {
   "cell_type": "code",
   "execution_count": 2,
   "metadata": {},
   "outputs": [
    {
     "data": {
      "text/plain": [
       "<torch._C.Generator at 0x7ff6a74007b0>"
      ]
     },
     "execution_count": 2,
     "metadata": {},
     "output_type": "execute_result"
    }
   ],
   "source": [
    "torch.manual_seed(0)"
   ]
  },
  {
   "cell_type": "code",
   "execution_count": 3,
   "metadata": {},
   "outputs": [],
   "source": [
    "device = torch.device('cuda' if torch.cuda.is_available() else 'cpu')"
   ]
  },
  {
   "cell_type": "code",
   "execution_count": 4,
   "metadata": {},
   "outputs": [],
   "source": [
    "CHANNELS_IMG = 1\n",
    "IMG_SIZE = 32\n",
    "BATCH_SIZE = 64\n",
    "EPOCHS = 5"
   ]
  },
  {
   "cell_type": "code",
   "execution_count": 5,
   "metadata": {},
   "outputs": [],
   "source": [
    "def calculate_conv_shape(input_size,kernel_size,stride=0,padding=0):\n",
    "        return (input_size - kernel_size + 2 * padding) / stride + 1"
   ]
  },
  {
   "cell_type": "code",
   "execution_count": 6,
   "metadata": {},
   "outputs": [],
   "source": [
    "transform = transforms.Compose(\n",
    "    [\n",
    "        transforms.Resize(IMG_SIZE),\n",
    "        transforms.ToTensor(),\n",
    "        transforms.Normalize(\n",
    "            [0.5 for _ in range(CHANNELS_IMG)], [0.5 for _ in range(CHANNELS_IMG)]),\n",
    "    ]\n",
    ")"
   ]
  },
  {
   "cell_type": "code",
   "execution_count": 7,
   "metadata": {},
   "outputs": [],
   "source": [
    "trainset = torchvision.datasets.MNIST(root='../data', \n",
    "                                      train=True,\n",
    "                                      transform=transform,\n",
    "                                      download= True)\n",
    "testset = torchvision.datasets.MNIST(root='../data', \n",
    "                                      train=False,\n",
    "                                      transform=transform,\n",
    "                                      download= True)"
   ]
  },
  {
   "cell_type": "code",
   "execution_count": 8,
   "metadata": {},
   "outputs": [],
   "source": [
    "train_dataloarder = DataLoader(trainset, batch_size=BATCH_SIZE, shuffle=True)\n",
    "test_loader = DataLoader(testset, batch_size=BATCH_SIZE, shuffle=True)"
   ]
  },
  {
   "cell_type": "code",
   "execution_count": 9,
   "metadata": {},
   "outputs": [
    {
     "data": {
      "text/plain": [
       "10"
      ]
     },
     "execution_count": 9,
     "metadata": {},
     "output_type": "execute_result"
    }
   ],
   "source": [
    "len(trainset.classes)"
   ]
  },
  {
   "cell_type": "code",
   "execution_count": 10,
   "metadata": {},
   "outputs": [],
   "source": [
    "dataiter = iter(train_dataloarder)\n",
    "img,lab = dataiter.next()"
   ]
  },
  {
   "cell_type": "code",
   "execution_count": 11,
   "metadata": {},
   "outputs": [
    {
     "data": {
      "text/plain": [
       "torch.Size([64])"
      ]
     },
     "execution_count": 11,
     "metadata": {},
     "output_type": "execute_result"
    }
   ],
   "source": [
    "lab.shape"
   ]
  },
  {
   "cell_type": "code",
   "execution_count": 12,
   "metadata": {},
   "outputs": [
    {
     "data": {
      "text/plain": [
       "2.0"
      ]
     },
     "execution_count": 12,
     "metadata": {},
     "output_type": "execute_result"
    }
   ],
   "source": [
    "calculate_conv_shape(4,4,2,1)"
   ]
  },
  {
   "cell_type": "code",
   "execution_count": 14,
   "metadata": {},
   "outputs": [],
   "source": [
    "model = ConditionalVAE(in_channels=CHANNELS_IMG,latent_dim=2,num_classes=len(trainset.classes),image_size=IMG_SIZE,device=device)"
   ]
  },
  {
   "cell_type": "code",
   "execution_count": 15,
   "metadata": {},
   "outputs": [
    {
     "data": {
      "text/plain": [
       "ConditionalVAE(\n",
       "  (embed_class): Embedding(10, 1024)\n",
       "  (encoder): Sequential(\n",
       "    (0): Conv2d(2, 64, kernel_size=(4, 4), stride=(2, 2), padding=(1, 1))\n",
       "    (1): InstanceNorm2d(64, eps=1e-05, momentum=0.1, affine=False, track_running_stats=False)\n",
       "    (2): LeakyReLU(negative_slope=0.2)\n",
       "    (3): Sequential(\n",
       "      (0): Conv2d(64, 128, kernel_size=(4, 4), stride=(2, 2), padding=(1, 1), bias=False)\n",
       "      (1): BatchNorm2d(128, eps=1e-05, momentum=0.1, affine=True, track_running_stats=True)\n",
       "      (2): LeakyReLU(negative_slope=0.01)\n",
       "    )\n",
       "    (4): Sequential(\n",
       "      (0): Conv2d(128, 256, kernel_size=(4, 4), stride=(2, 2), padding=(1, 1), bias=False)\n",
       "      (1): BatchNorm2d(256, eps=1e-05, momentum=0.1, affine=True, track_running_stats=True)\n",
       "      (2): LeakyReLU(negative_slope=0.01)\n",
       "    )\n",
       "    (5): Sequential(\n",
       "      (0): Conv2d(256, 512, kernel_size=(4, 4), stride=(2, 2), padding=(1, 1), bias=False)\n",
       "      (1): BatchNorm2d(512, eps=1e-05, momentum=0.1, affine=True, track_running_stats=True)\n",
       "      (2): LeakyReLU(negative_slope=0.01)\n",
       "    )\n",
       "  )\n",
       "  (fc_mu): Linear(in_features=2048, out_features=2, bias=True)\n",
       "  (fc_var): Linear(in_features=2048, out_features=2, bias=True)\n",
       "  (decoder_input): Linear(in_features=3, out_features=2048, bias=True)\n",
       "  (decoder): Sequential(\n",
       "    (0): Sequential(\n",
       "      (0): ConvTranspose2d(512, 256, kernel_size=(4, 4), stride=(2, 2), padding=(1, 1), bias=False)\n",
       "      (1): BatchNorm2d(256, eps=1e-05, momentum=0.1, affine=True, track_running_stats=True)\n",
       "      (2): ReLU()\n",
       "    )\n",
       "    (1): Sequential(\n",
       "      (0): ConvTranspose2d(256, 128, kernel_size=(4, 4), stride=(2, 2), padding=(1, 1), bias=False)\n",
       "      (1): BatchNorm2d(128, eps=1e-05, momentum=0.1, affine=True, track_running_stats=True)\n",
       "      (2): ReLU()\n",
       "    )\n",
       "    (2): Sequential(\n",
       "      (0): ConvTranspose2d(128, 64, kernel_size=(4, 4), stride=(2, 2), padding=(1, 1), bias=False)\n",
       "      (1): BatchNorm2d(64, eps=1e-05, momentum=0.1, affine=True, track_running_stats=True)\n",
       "      (2): ReLU()\n",
       "    )\n",
       "    (3): ConvTranspose2d(64, 1, kernel_size=(4, 4), stride=(2, 2), padding=(1, 1))\n",
       "    (4): BatchNorm2d(1, eps=1e-05, momentum=0.1, affine=True, track_running_stats=True)\n",
       "    (5): ReLU()\n",
       "    (6): ConvTranspose2d(1, 1, kernel_size=(1, 1), stride=(1, 1))\n",
       "    (7): BatchNorm2d(1, eps=1e-05, momentum=0.1, affine=True, track_running_stats=True)\n",
       "    (8): Sigmoid()\n",
       "  )\n",
       ")"
      ]
     },
     "execution_count": 15,
     "metadata": {},
     "output_type": "execute_result"
    }
   ],
   "source": [
    "model.to(device)"
   ]
  },
  {
   "cell_type": "code",
   "execution_count": 16,
   "metadata": {},
   "outputs": [],
   "source": [
    "import torch.optim as optim\n",
    "\n",
    "criterion = nn.CrossEntropyLoss()\n",
    "optimizer = optim.Adam(model.parameters())"
   ]
  },
  {
   "cell_type": "code",
   "execution_count": 17,
   "metadata": {},
   "outputs": [],
   "source": [
    "def loss_function(recon_x, x, mu, log_var):\n",
    "    BCE = F.binary_cross_entropy(recon_x.flatten(1), x.flatten(1), reduction='sum')\n",
    "    KLD = -0.5 * torch.sum(1 + log_var - mu.pow(2) - log_var.exp())\n",
    "    return BCE + KLD"
   ]
  },
  {
   "cell_type": "code",
   "execution_count": 18,
   "metadata": {},
   "outputs": [
    {
     "name": "stdout",
     "output_type": "stream",
     "text": [
      "Epoch [0/5] Batch 100/938                       Loss : 3487535.6934 Step : 0\n",
      "Epoch [0/5] Batch 200/938                       Loss : 4627883.8188 Step : 1\n",
      "Epoch [0/5] Batch 300/938                       Loss : 4731493.2534 Step : 2\n",
      "Epoch [0/5] Batch 400/938                       Loss : 3889962.8644 Step : 3\n",
      "Epoch [0/5] Batch 500/938                       Loss : 2136851.2990 Step : 4\n",
      "Epoch [0/5] Batch 600/938                       Loss : -498546.6912 Step : 5\n",
      "Epoch [0/5] Batch 700/938                       Loss : -3952667.2654 Step : 6\n",
      "Epoch [0/5] Batch 800/938                       Loss : -8219668.0467 Step : 7\n",
      "Epoch [0/5] Batch 900/938                       Loss : -13290274.4061 Step : 8\n",
      "Epoch [1/5] Batch 100/938                       Loss : -6194499.6406 Step : 9\n",
      "Epoch [1/5] Batch 200/938                       Loss : -13074023.2266 Step : 10\n",
      "Epoch [1/5] Batch 300/938                       Loss : -20643852.6094 Step : 11\n",
      "Epoch [1/5] Batch 400/938                       Loss : -28963821.4609 Step : 12\n",
      "Epoch [1/5] Batch 500/938                       Loss : -38006518.8047 Step : 13\n",
      "Epoch [1/5] Batch 600/938                       Loss : -47741267.3203 Step : 14\n",
      "Epoch [1/5] Batch 700/938                       Loss : -58221796.6016 Step : 15\n",
      "Epoch [1/5] Batch 800/938                       Loss : -69406277.9141 Step : 16\n",
      "Epoch [1/5] Batch 900/938                       Loss : -81271514.4844 Step : 17\n",
      "Epoch [2/5] Batch 100/938                       Loss : -12923568.5859 Step : 18\n",
      "Epoch [2/5] Batch 200/938                       Loss : -26418252.9844 Step : 19\n",
      "Epoch [2/5] Batch 300/938                       Loss : -40600216.2812 Step : 20\n",
      "Epoch [2/5] Batch 400/938                       Loss : -55445935.5938 Step : 21\n",
      "Epoch [2/5] Batch 500/938                       Loss : -70965983.9375 Step : 22\n",
      "Epoch [2/5] Batch 600/938                       Loss : -87220752.5938 Step : 23\n",
      "Epoch [2/5] Batch 700/938                       Loss : -104091534.9375 Step : 24\n",
      "Epoch [2/5] Batch 800/938                       Loss : -121627912.9688 Step : 25\n",
      "Epoch [2/5] Batch 900/938                       Loss : -139866726.9062 Step : 26\n",
      "Epoch [3/5] Batch 100/938                       Loss : -19322685.1250 Step : 27\n",
      "Epoch [3/5] Batch 200/938                       Loss : -39121212.6406 Step : 28\n",
      "Epoch [3/5] Batch 300/938                       Loss : -59538663.3906 Step : 29\n",
      "Epoch [3/5] Batch 400/938                       Loss : -80683946.6562 Step : 30\n",
      "Epoch [3/5] Batch 500/938                       Loss : -102455333.3594 Step : 31\n",
      "Epoch [3/5] Batch 600/938                       Loss : -124772613.7500 Step : 32\n",
      "Epoch [3/5] Batch 700/938                       Loss : -147792729.6094 Step : 33\n",
      "Epoch [3/5] Batch 800/938                       Loss : -171498683.5938 Step : 34\n",
      "Epoch [3/5] Batch 900/938                       Loss : -195793904.6875 Step : 35\n",
      "Epoch [4/5] Batch 100/938                       Loss : -25446647.6875 Step : 36\n",
      "Epoch [4/5] Batch 200/938                       Loss : -51257296.2344 Step : 37\n",
      "Epoch [4/5] Batch 300/938                       Loss : -77651616.6719 Step : 38\n",
      "Epoch [4/5] Batch 400/938                       Loss : -104697649.4531 Step : 39\n",
      "Epoch [4/5] Batch 500/938                       Loss : -132330308.5156 Step : 40\n",
      "Epoch [4/5] Batch 600/938                       Loss : -160674529.0469 Step : 41\n",
      "Epoch [4/5] Batch 700/938                       Loss : -189610636.6719 Step : 42\n",
      "Epoch [4/5] Batch 800/938                       Loss : -219141155.0156 Step : 43\n",
      "Epoch [4/5] Batch 900/938                       Loss : -249223020.6719 Step : 44\n"
     ]
    }
   ],
   "source": [
    "writer_real = SummaryWriter(f\"logs/CVAE_MNIST/real\")\n",
    "writer_fake = SummaryWriter(f\"logs/CVAE_MNIST/fake\")\n",
    "step = 0\n",
    "train_losses = []\n",
    "test_losses = []\n",
    "for epoch in range(EPOCHS):\n",
    "    train_epoch_loss = 0\n",
    "    test_epoch_loss = 0\n",
    "    for batch_idx,(img,lab) in enumerate(train_dataloarder):\n",
    "        model.train()\n",
    "        img = img.to(device)\n",
    "        lab = lab.to(device)\n",
    "        optimizer.zero_grad()\n",
    "        recon_img, mu, log_var = model(img,lab)\n",
    "        #print(mu)\n",
    "        #print(log_var)\n",
    "        loss = loss_function(recon_img, img, mu, log_var)\n",
    "        #print(loss)\n",
    "        #print(recon_img.shape)\n",
    "        #print(loss.item())\n",
    "        train_epoch_loss += loss.item() \n",
    "        loss.backward()\n",
    "        optimizer.step()\n",
    "    \n",
    "        model.eval()\n",
    "        if batch_idx % 100 == 0 and batch_idx > 0:\n",
    "\n",
    "                with torch.no_grad():\n",
    "                    gen_img = model.sample(BATCH_SIZE,lab)\n",
    "                    # take out (up to) 32 examples\n",
    "                    img_grid_real = torchvision.utils.make_grid(img[:32], normalize=True)\n",
    "                    img_grid_fake = torchvision.utils.make_grid(gen_img[:32], normalize=True)\n",
    "\n",
    "                    writer_real.add_image(\"Real_cvae\", img_grid_real, global_step=step)\n",
    "                    writer_fake.add_image(\"Fakec_cvae\", img_grid_fake, global_step=step)\n",
    "                print(\n",
    "                    f\"Epoch [{epoch}/{EPOCHS}] Batch {batch_idx}/{len(train_dataloarder)} \\\n",
    "                      Loss : {train_epoch_loss:.4f} Step : {step}\"\n",
    "                )\n",
    "                step += 1\n",
    "    train_losses.append(train_epoch_loss/BATCH_SIZE)\n",
    "    model.eval()\n",
    "    with torch.no_grad():\n",
    "        for img,lab in test_loader:\n",
    "            img = img.to(device)\n",
    "            lab = lab.to(device)\n",
    "            recon_img, mu, log_var = model(img,lab)\n",
    "            loss = loss_function(recon_img, img, mu, log_var)\n",
    "            test_epoch_loss += loss.item()\n",
    "    test_losses.append(test_epoch_loss/BATCH_SIZE)"
   ]
  },
  {
   "cell_type": "code",
   "execution_count": 19,
   "metadata": {},
   "outputs": [
    {
     "data": {
      "image/png": "[encoded data removed]",
      "text/plain": [
       "<Figure size 432x288 with 1 Axes>"
      ]
     },
     "metadata": {
      "needs_background": "light"
     },
     "output_type": "display_data"
    }
   ],
   "source": [
    "plt.plot(train_losses, label=\"train\")\n",
    "plt.plot(test_losses, label=\"test\")\n",
    "plt.show()"
   ]
  },
  {
   "cell_type": "code",
   "execution_count": 20,
   "metadata": {},
   "outputs": [
    {
     "data": {
      "text/plain": [
       "[-239543.49889850616,\n",
       " -1340164.4792480469,\n",
       " -2292513.850463867,\n",
       " -3200728.2055664062,\n",
       " -4068026.9580078125]"
      ]
     },
     "execution_count": 20,
     "metadata": {},
     "output_type": "execute_result"
    }
   ],
   "source": [
    "train_losses"
   ]
  },
  {
   "cell_type": "code",
   "execution_count": 21,
   "metadata": {},
   "outputs": [
    {
     "data": {
      "text/plain": [
       "torch.Size([16, 1])"
      ]
     },
     "execution_count": 21,
     "metadata": {},
     "output_type": "execute_result"
    }
   ],
   "source": [
    "lab.unsqueeze(1).shape"
   ]
  },
  {
   "cell_type": "code",
   "execution_count": 22,
   "metadata": {},
   "outputs": [],
   "source": [
    "import numpy as np\n",
    "def imshow(img):\n",
    "    img = img    # unnormalize\n",
    "    npimg = img.numpy()\n",
    "    plt.imshow(np.transpose(npimg, (1, 2, 0)))\n",
    "    plt.show()"
   ]
  },
  {
   "cell_type": "code",
   "execution_count": 23,
   "metadata": {},
   "outputs": [
    {
     "data": {
      "image/png": "[encoded data removed]",
      "text/plain": [
       "<Figure size 432x288 with 1 Axes>"
      ]
     },
     "metadata": {
      "needs_background": "light"
     },
     "output_type": "display_data"
    }
   ],
   "source": [
    "imshow(torchvision.utils.make_grid(gen_img.detach().cpu()))"
   ]
  },
  {
   "cell_type": "code",
   "execution_count": 24,
   "metadata": {},
   "outputs": [
    {
     "data": {
      "image/png": "[encoded data removed]",
      "text/plain": [
       "<Figure size 432x288 with 1 Axes>"
      ]
     },
     "metadata": {
      "needs_background": "light"
     },
     "output_type": "display_data"
    }
   ],
   "source": [
    "imshow(gen_img[0].detach().cpu())"
   ]
  },
  {
   "cell_type": "code",
   "execution_count": null,
   "metadata": {},
   "outputs": [],
   "source": []
  }
 ],
 "metadata": {
  "kernelspec": {
   "display_name": "Python 3.6.13 ('ml')",
   "language": "python",
   "name": "python3"
  },
  "language_info": {
   "codemirror_mode": {
    "name": "ipython",
    "version": 3
   },
   "file_extension": ".py",
   "mimetype": "text/x-python",
   "name": "python",
   "nbconvert_exporter": "python",
   "pygments_lexer": "ipython3",
   "version": "3.6.13"
  },
  "orig_nbformat": 4,
  "vscode": {
   "interpreter": {
    "hash": "e52387336156db6d881f08b29d2996eae333b560bff7fc97cb6248ede68f9d47"
   }
  }
 },
 "nbformat": 4,
 "nbformat_minor": 2
}
